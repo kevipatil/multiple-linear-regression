{
 "cells": [
  {
   "cell_type": "code",
   "execution_count": 1,
   "id": "d3308bb2",
   "metadata": {},
   "outputs": [],
   "source": [
    "import numpy as np\n",
    "import matplotlib.pyplot as plt\n",
    "import pandas as pd"
   ]
  },
  {
   "cell_type": "code",
   "execution_count": 2,
   "id": "7d50a706",
   "metadata": {},
   "outputs": [],
   "source": [
    "dataset = pd.read_csv('Startups.csv')"
   ]
  },
  {
   "cell_type": "code",
   "execution_count": 5,
   "id": "7cef4185",
   "metadata": {},
   "outputs": [],
   "source": [
    "X = dataset[[\"R&D Spend\",\"Administration\",\"Marketing Spend\",\"State\"]]\n",
    "y = dataset[\"Profit\"]"
   ]
  },
  {
   "cell_type": "code",
   "execution_count": 7,
   "id": "1e3dd415",
   "metadata": {},
   "outputs": [],
   "source": [
    "#Creating column transformer and one hot encoder for State column\n",
    "from sklearn.compose import ColumnTransformer\n",
    "from sklearn.preprocessing import OneHotEncoder\n",
    "from sklearn.compose import make_column_transformer\n",
    "\n",
    "ohe = OneHotEncoder()\n",
    "ohe.fit(X[['State']])\n",
    "column_transform = make_column_transformer((OneHotEncoder(categories=ohe.categories_), ['State']), remainder='passthrough')"
   ]
  },
  {
   "cell_type": "code",
   "execution_count": 17,
   "id": "3d10fd58",
   "metadata": {},
   "outputs": [],
   "source": [
    "#Split dataset in training and testing\n",
    "\n",
    "from sklearn.model_selection import train_test_split\n",
    "X_train, X_test, y_train, y_test = train_test_split(X, y, test_size = 0.2, random_state = 0)"
   ]
  },
  {
   "cell_type": "code",
   "execution_count": 9,
   "id": "25939f23",
   "metadata": {},
   "outputs": [],
   "source": [
    "#Creating LinearRegression object\n",
    "from sklearn.linear_model import LinearRegression\n",
    "regressor = LinearRegression()"
   ]
  },
  {
   "cell_type": "code",
   "execution_count": 10,
   "id": "aca49568",
   "metadata": {},
   "outputs": [
    {
     "data": {
      "text/plain": [
       "Pipeline(steps=[('columntransformer',\n",
       "                 ColumnTransformer(remainder='passthrough',\n",
       "                                   transformers=[('onehotencoder',\n",
       "                                                  OneHotEncoder(categories=[array(['California', 'Florida', 'New York'], dtype=object)]),\n",
       "                                                  ['State'])])),\n",
       "                ('linearregression', LinearRegression())])"
      ]
     },
     "execution_count": 10,
     "metadata": {},
     "output_type": "execute_result"
    }
   ],
   "source": [
    "#Create pipe and send 2 values - 1. regressor and 2. column_transform\n",
    "from sklearn.pipeline import make_pipeline\n",
    "pipe = make_pipeline(column_transform, regressor)\n",
    "pipe.fit(X_train, y_train)\n"
   ]
  },
  {
   "cell_type": "code",
   "execution_count": 26,
   "id": "349411d9",
   "metadata": {},
   "outputs": [
    {
     "name": "stdout",
     "output_type": "stream",
     "text": [
      "[103015.2  132582.28 132447.74  71976.1  178537.48 116161.24  67851.69\n",
      "  98791.73 113969.44 167921.07]\n"
     ]
    }
   ],
   "source": [
    "pred = pipe.predict(X_test)\n",
    "print(pred)\n"
   ]
  },
  {
   "cell_type": "code",
   "execution_count": 27,
   "id": "4e97f1f5",
   "metadata": {
    "scrolled": false
   },
   "outputs": [
    {
     "name": "stdout",
     "output_type": "stream",
     "text": [
      "28    103282.38\n",
      "11    144259.40\n",
      "10    146121.95\n",
      "41     77798.83\n",
      "2     191050.39\n",
      "27    105008.31\n",
      "38     81229.06\n",
      "31     97483.56\n",
      "22    110352.25\n",
      "4     166187.94\n",
      "Name: Profit, dtype: float64\n"
     ]
    }
   ],
   "source": [
    "print(y_test)"
   ]
  },
  {
   "cell_type": "code",
   "execution_count": 28,
   "id": "84b21f62",
   "metadata": {},
   "outputs": [],
   "source": [
    "import pickle"
   ]
  },
  {
   "cell_type": "code",
   "execution_count": 29,
   "id": "98e29c4f",
   "metadata": {},
   "outputs": [],
   "source": [
    "pickle.dump(pipe, open(\"MLR_Model.pkl\", \"wb\"))"
   ]
  },
  {
   "cell_type": "code",
   "execution_count": 32,
   "id": "aa62bddc",
   "metadata": {},
   "outputs": [
    {
     "name": "stdout",
     "output_type": "stream",
     "text": [
      "[12373003.35]\n"
     ]
    }
   ],
   "source": [
    "result = pipe.predict(pd.DataFrame(columns=[\"R&D Spend\",\"Administration\",\"Marketing Spend\",\"State\"], \n",
    "                                   data=np.array([1323232, 343434343, 343434, \"New York\"]).reshape(1, 4)))\n",
    "print(result)                      "
   ]
  },
  {
   "cell_type": "code",
   "execution_count": null,
   "id": "51fa77fd",
   "metadata": {},
   "outputs": [],
   "source": []
  }
 ],
 "metadata": {
  "kernelspec": {
   "display_name": "Python 3 (ipykernel)",
   "language": "python",
   "name": "python3"
  },
  "language_info": {
   "codemirror_mode": {
    "name": "ipython",
    "version": 3
   },
   "file_extension": ".py",
   "mimetype": "text/x-python",
   "name": "python",
   "nbconvert_exporter": "python",
   "pygments_lexer": "ipython3",
   "version": "3.9.13"
  }
 },
 "nbformat": 4,
 "nbformat_minor": 5
}
